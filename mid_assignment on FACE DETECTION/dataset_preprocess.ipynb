{
 "cells": [
  {
   "cell_type": "code",
   "execution_count": 1,
   "metadata": {},
   "outputs": [],
   "source": [
    "import os\n",
    "import cv2\n",
    "import random\n",
    "import pickle\n",
    "from tqdm import tqdm\n",
    "import numpy as np\n",
    "import matplotlib.pyplot as plt"
   ]
  },
  {
   "cell_type": "code",
   "execution_count": 2,
   "metadata": {},
   "outputs": [],
   "source": [
    "DATA_DIR = 'E:\\\\cvprMidProject\\\\data_dir'\n",
    "TRAIN_DATA_DIR = os.path.join(DATA_DIR, 'train')\n",
    "VALID_DATA_DIR = os.path.join(DATA_DIR, 'valid')\n",
    "TEST_DATA_DIR = os.path.join(DATA_DIR, 'test')"
   ]
  },
  {
   "cell_type": "code",
   "execution_count": 3,
   "metadata": {},
   "outputs": [
    {
     "name": "stdout",
     "output_type": "stream",
     "text": [
      "List of categories: ['ABDULLAH AL SHAHRIAR', 'AHMED IMTIAZ', 'AL-NAFI', 'ASHIK AHAMED', 'BISHANATH TARAFDER', 'ESM-E MOULA CHOWDHURY ABHA', 'FAHIM RAHMAN', 'FAIZA BINTE ZAMAN', 'IMAM HASAN JAMI', 'MD ABU ZAYED KHAN', 'MD ATIK ULLAH KHAN', 'MD FARDIN AMIN RIYAD', 'MD IMTIAJ ALAM SAJIN', 'MD JAHID HASSAN', 'MD MUNTASIR AREFIN NAEEM', 'MD NAIMUR RAHMAN', 'MD SAJID ISLAM KHAN', 'MD SHANZID HASAN', 'MD TAREK MAHMUD', 'MD TOYABUR RAHAMAN', 'MD WAHIDUZZAMAN SUVA', 'MOHAMMAD BIN AB JALIL SHEAKH', 'MOHAMMAD NUR', 'MOHAMMED TANVIR HASSAN', 'NAFIS MUBASSHIR SHAH', 'NAHAR ISLAM NISHI', 'NAVID MAHFUZ NAYEEM', 'RAHAD-UL-ISLAM RABBY', 'REZWAN AHMAD', 'S M FAISAL', 'SABBIR AHMED', 'SADAT BIN MASUD', 'SATYAJIT DAS', 'SHEIKH AKIB ALMAS', 'SRABONE RAXIT', 'SYEDA HUMAIRA JABEEN', 'TAHFIM IBN KHAN', 'TAHMID AL RAFID SIDDIQUE', 'TARIKUL ISLAM NISHAT']\n"
     ]
    }
   ],
   "source": [
    "IMG_SIZE = 512\n",
    "CATEGORIES = []\n",
    "\n",
    "# Check if the TRAIN_DATA_DIR exists\n",
    "if not os.path.exists(TRAIN_DATA_DIR):\n",
    "    print(f\"ERROR: TRAIN_DATA_DIR '{TRAIN_DATA_DIR}' does not exist.\")\n",
    "else:\n",
    "    # Iterate over the directories/files inside TRAIN_DATA_DIR\n",
    "    for i in os.listdir(TRAIN_DATA_DIR):\n",
    "        # Check if it is a directory (category)\n",
    "        if os.path.isdir(os.path.join(TRAIN_DATA_DIR, i)):\n",
    "            CATEGORIES.append(i)\n",
    "        else:\n",
    "            print(f\"WARNING: Found a non-directory '{i}' inside TRAIN_DATA_DIR.\")\n",
    "\n",
    "# Print the list of categories\n",
    "print(\"List of categories:\", CATEGORIES)"
   ]
  },
  {
   "cell_type": "code",
   "execution_count": 4,
   "metadata": {},
   "outputs": [
    {
     "name": "stderr",
     "output_type": "stream",
     "text": [
      "  0%|          | 0/10 [00:00<?, ?it/s]"
     ]
    },
    {
     "name": "stderr",
     "output_type": "stream",
     "text": [
      "100%|██████████| 10/10 [00:01<00:00,  7.41it/s]\n",
      "100%|██████████| 13/13 [00:00<00:00, 29.88it/s]\n",
      "100%|██████████| 5/5 [00:00<00:00,  9.96it/s]\n",
      "100%|██████████| 4/4 [00:00<00:00, 58.34it/s]\n",
      "100%|██████████| 4/4 [00:00<00:00, 28.38it/s]\n",
      "100%|██████████| 14/14 [00:00<00:00, 218.79it/s]\n",
      "100%|██████████| 5/5 [00:00<00:00, 10.10it/s]\n",
      "100%|██████████| 5/5 [00:00<00:00, 14.06it/s]\n",
      "100%|██████████| 5/5 [00:01<00:00,  3.92it/s]\n",
      "100%|██████████| 4/4 [00:00<00:00, 10.77it/s]\n",
      "100%|██████████| 13/13 [00:01<00:00, 11.36it/s]\n",
      "100%|██████████| 6/6 [00:00<00:00, 10.30it/s]\n",
      "100%|██████████| 16/16 [00:01<00:00, 15.97it/s]\n",
      "100%|██████████| 5/5 [00:00<00:00, 58.26it/s]\n",
      "100%|██████████| 5/5 [00:00<00:00, 19.37it/s]\n",
      "100%|██████████| 5/5 [00:00<00:00,  7.41it/s]\n",
      "100%|██████████| 5/5 [00:00<00:00, 37.83it/s]\n",
      "100%|██████████| 10/10 [00:00<00:00, 17.31it/s]\n",
      "100%|██████████| 10/10 [00:00<00:00, 23.63it/s]\n",
      "100%|██████████| 10/10 [00:00<00:00, 36.26it/s]\n",
      "100%|██████████| 16/16 [00:01<00:00, 15.45it/s]\n",
      "100%|██████████| 5/5 [00:00<00:00,  6.83it/s]\n",
      "100%|██████████| 5/5 [00:00<00:00, 10.76it/s]\n",
      "100%|██████████| 5/5 [00:00<00:00,  7.06it/s]\n",
      "100%|██████████| 9/9 [00:00<00:00, 12.75it/s]\n",
      "100%|██████████| 10/10 [00:00<00:00, 44.70it/s]\n",
      "100%|██████████| 9/9 [00:01<00:00,  5.75it/s]\n",
      "100%|██████████| 18/18 [00:02<00:00,  7.99it/s]\n",
      "100%|██████████| 5/5 [00:00<00:00, 20.71it/s]\n",
      "100%|██████████| 5/5 [00:00<00:00,  5.06it/s]\n",
      "100%|██████████| 5/5 [00:00<00:00, 45.17it/s]\n",
      "100%|██████████| 5/5 [00:00<00:00, 40.29it/s]\n",
      "100%|██████████| 10/10 [00:00<00:00, 14.47it/s]\n",
      "100%|██████████| 10/10 [00:00<00:00, 47.68it/s]\n",
      "100%|██████████| 10/10 [00:01<00:00,  6.58it/s]\n",
      "100%|██████████| 5/5 [00:00<00:00, 50.29it/s]\n",
      "100%|██████████| 10/10 [00:01<00:00,  8.26it/s]\n",
      "100%|██████████| 10/10 [00:01<00:00,  5.99it/s]\n",
      "100%|██████████| 6/6 [00:00<00:00, 101.42it/s]"
     ]
    },
    {
     "name": "stdout",
     "output_type": "stream",
     "text": [
      "312\n"
     ]
    },
    {
     "name": "stderr",
     "output_type": "stream",
     "text": [
      "\n"
     ]
    }
   ],
   "source": [
    "training_data = []\n",
    "\n",
    "for c in CATEGORIES:\n",
    "    path = os.path.join(TRAIN_DATA_DIR, c)\n",
    "    class_num = CATEGORIES.index(c) # 0\n",
    "    for img in tqdm(os.listdir(path)):\n",
    "        try:\n",
    "            img_array = cv2.imread(os.path.join(path, img))\n",
    "            img_resized = cv2.resize(img_array, (IMG_SIZE, IMG_SIZE))\n",
    "            training_data.append([img_resized, class_num])\n",
    "        except Exception as e:\n",
    "            pass\n",
    "\n",
    "print(len(training_data))"
   ]
  },
  {
   "cell_type": "code",
   "execution_count": 5,
   "metadata": {},
   "outputs": [
    {
     "name": "stderr",
     "output_type": "stream",
     "text": [
      "100%|██████████| 6/6 [00:00<00:00,  7.34it/s]\n",
      "100%|██████████| 7/7 [00:00<00:00, 24.06it/s]\n",
      "100%|██████████| 3/3 [00:00<00:00,  7.64it/s]\n",
      "100%|██████████| 2/2 [00:00<00:00, 33.21it/s]\n",
      "100%|██████████| 2/2 [00:00<00:00, 13.65it/s]\n",
      "100%|██████████| 8/8 [00:00<00:00, 181.18it/s]\n",
      "100%|██████████| 3/3 [00:00<00:00, 10.14it/s]\n",
      "100%|██████████| 3/3 [00:00<00:00, 39.35it/s]\n",
      "100%|██████████| 3/3 [00:00<00:00,  6.42it/s]\n",
      "100%|██████████| 2/2 [00:00<00:00, 11.00it/s]\n",
      "100%|██████████| 7/7 [00:00<00:00, 11.62it/s]\n",
      "100%|██████████| 3/3 [00:00<00:00, 10.19it/s]\n",
      "100%|██████████| 9/9 [00:00<00:00, 13.15it/s]\n",
      "100%|██████████| 3/3 [00:00<00:00, 37.13it/s]\n",
      "100%|██████████| 3/3 [00:00<00:00, 21.34it/s]\n",
      "100%|██████████| 3/3 [00:00<00:00,  7.36it/s]\n",
      "100%|██████████| 3/3 [00:00<00:00, 48.41it/s]\n",
      "100%|██████████| 6/6 [00:00<00:00, 16.73it/s]\n",
      "100%|██████████| 6/6 [00:00<00:00, 18.16it/s]\n",
      "100%|██████████| 6/6 [00:00<00:00, 50.90it/s]\n",
      "100%|██████████| 9/9 [00:00<00:00, 21.90it/s]\n",
      "100%|██████████| 3/3 [00:00<00:00,  3.15it/s]\n",
      "100%|██████████| 3/3 [00:00<00:00, 11.03it/s]\n",
      "100%|██████████| 3/3 [00:00<00:00,  5.82it/s]\n",
      "100%|██████████| 5/5 [00:00<00:00, 13.55it/s]\n",
      "100%|██████████| 6/6 [00:00<00:00, 39.01it/s]\n",
      "100%|██████████| 5/5 [00:00<00:00,  5.92it/s]\n",
      "100%|██████████| 10/10 [00:01<00:00,  8.33it/s]\n",
      "100%|██████████| 3/3 [00:00<00:00, 16.42it/s]\n",
      "100%|██████████| 3/3 [00:00<00:00,  6.33it/s]\n",
      "100%|██████████| 3/3 [00:00<00:00, 44.50it/s]\n",
      "100%|██████████| 3/3 [00:00<00:00, 40.96it/s]\n",
      "100%|██████████| 6/6 [00:00<00:00, 16.53it/s]\n",
      "100%|██████████| 6/6 [00:00<00:00, 46.44it/s]\n",
      "100%|██████████| 6/6 [00:01<00:00,  5.72it/s]\n",
      "100%|██████████| 3/3 [00:00<00:00,  8.98it/s]\n",
      "100%|██████████| 6/6 [00:00<00:00,  7.30it/s]\n",
      "100%|██████████| 6/6 [00:01<00:00,  5.67it/s]\n",
      "100%|██████████| 3/3 [00:00<00:00, 111.35it/s]"
     ]
    },
    {
     "name": "stdout",
     "output_type": "stream",
     "text": [
      "180\n"
     ]
    },
    {
     "name": "stderr",
     "output_type": "stream",
     "text": [
      "\n"
     ]
    }
   ],
   "source": [
    "valid_data = []\n",
    "\n",
    "for c in CATEGORIES:\n",
    "    path = os.path.join(VALID_DATA_DIR, c)\n",
    "    class_num = CATEGORIES.index(c)\n",
    "    for img in tqdm(os.listdir(path)):\n",
    "        try:\n",
    "            img_array = cv2.imread(os.path.join(path, img))\n",
    "            img_resized = cv2.resize(img_array, (IMG_SIZE, IMG_SIZE))\n",
    "            valid_data.append([img_resized, class_num])\n",
    "        except Exception as e:\n",
    "            pass\n",
    "\n",
    "print(len(valid_data))"
   ]
  },
  {
   "cell_type": "code",
   "execution_count": 6,
   "metadata": {},
   "outputs": [
    {
     "name": "stderr",
     "output_type": "stream",
     "text": [
      "100%|██████████| 4/4 [00:00<00:00,  7.33it/s]\n",
      "100%|██████████| 6/6 [00:00<00:00, 51.33it/s]\n",
      "100%|██████████| 3/3 [00:00<00:00,  6.40it/s]\n",
      "100%|██████████| 2/2 [00:00<00:00, 85.11it/s]\n",
      "100%|██████████| 2/2 [00:00<00:00, 35.87it/s]\n",
      "100%|██████████| 6/6 [00:00<00:00, 111.87it/s]\n",
      "100%|██████████| 2/2 [00:00<00:00,  9.62it/s]\n",
      "100%|██████████| 2/2 [00:00<00:00,  9.39it/s]\n",
      "100%|██████████| 2/2 [00:00<00:00,  2.64it/s]\n",
      "100%|██████████| 3/3 [00:00<00:00, 10.20it/s]\n",
      "100%|██████████| 6/6 [00:00<00:00, 14.72it/s]\n",
      "100%|██████████| 3/3 [00:00<00:00, 10.29it/s]\n",
      "100%|██████████| 7/7 [00:00<00:00, 25.34it/s]\n",
      "100%|██████████| 2/2 [00:00<00:00, 49.60it/s]\n",
      "100%|██████████| 2/2 [00:00<00:00, 16.93it/s]\n",
      "100%|██████████| 2/2 [00:00<00:00, 36.54it/s]\n",
      "100%|██████████| 2/2 [00:00<00:00, 39.71it/s]\n",
      "100%|██████████| 4/4 [00:00<00:00, 17.75it/s]\n",
      "100%|██████████| 4/4 [00:00<00:00, 17.21it/s]\n",
      "100%|██████████| 4/4 [00:00<00:00, 36.17it/s]\n",
      "100%|██████████| 7/7 [00:00<00:00, 12.42it/s]\n",
      "100%|██████████| 2/2 [00:00<00:00,  8.95it/s]\n",
      "100%|██████████| 2/2 [00:00<00:00,  6.20it/s]\n",
      "100%|██████████| 2/2 [00:00<00:00,  5.79it/s]\n",
      "100%|██████████| 5/5 [00:00<00:00, 12.04it/s]\n",
      "100%|██████████| 4/4 [00:00<00:00, 43.89it/s]\n",
      "100%|██████████| 5/5 [00:00<00:00,  7.01it/s]\n",
      "100%|██████████| 8/8 [00:01<00:00,  7.98it/s]\n",
      "100%|██████████| 2/2 [00:00<00:00, 13.05it/s]\n",
      "100%|██████████| 2/2 [00:00<00:00,  6.05it/s]\n",
      "100%|██████████| 3/3 [00:00<00:00, 41.49it/s]\n",
      "100%|██████████| 2/2 [00:00<00:00, 40.76it/s]\n",
      "100%|██████████| 4/4 [00:00<00:00, 18.70it/s]\n",
      "100%|██████████| 4/4 [00:00<00:00, 46.45it/s]\n",
      "100%|██████████| 4/4 [00:00<00:00,  6.06it/s]\n",
      "100%|██████████| 2/2 [00:00<00:00, 23.61it/s]\n",
      "100%|██████████| 4/4 [00:00<00:00,  8.37it/s]\n",
      "100%|██████████| 5/5 [00:00<00:00,  5.84it/s]\n",
      "100%|██████████| 3/3 [00:00<00:00, 86.69it/s]"
     ]
    },
    {
     "name": "stdout",
     "output_type": "stream",
     "text": [
      "138\n"
     ]
    },
    {
     "name": "stderr",
     "output_type": "stream",
     "text": [
      "\n"
     ]
    }
   ],
   "source": [
    "test_data = []\n",
    "\n",
    "for c in CATEGORIES:\n",
    "    path = os.path.join(TEST_DATA_DIR, c)\n",
    "    class_num = CATEGORIES.index(c)\n",
    "    for img in tqdm(os.listdir(path)):\n",
    "        try:\n",
    "            img_array = cv2.imread(os.path.join(path, img))\n",
    "            img_resized = cv2.resize(img_array, (IMG_SIZE, IMG_SIZE))\n",
    "            test_data.append([img_resized, class_num])\n",
    "        except Exception as e:\n",
    "            pass\n",
    "\n",
    "print(len(test_data))"
   ]
  },
  {
   "cell_type": "code",
   "execution_count": 7,
   "metadata": {},
   "outputs": [],
   "source": [
    "random.shuffle(training_data)\n",
    "random.shuffle(valid_data)\n",
    "random.shuffle(test_data)"
   ]
  },
  {
   "cell_type": "code",
   "execution_count": 8,
   "metadata": {},
   "outputs": [
    {
     "name": "stdout",
     "output_type": "stream",
     "text": [
      "X_train= (312, 512, 512, 3) Y_train= (312,)\n"
     ]
    }
   ],
   "source": [
    "X_train = []\n",
    "Y_train = []\n",
    "\n",
    "for img, label in training_data:\n",
    "    X_train.append(img)\n",
    "    Y_train.append(label)\n",
    "\n",
    "X_train = np.array(X_train).astype('float32').reshape(-1,512,512,3)\n",
    "Y_train = np.array(Y_train)\n",
    "\n",
    "print(f\"X_train= {X_train.shape} Y_train= {Y_train.shape}\")"
   ]
  },
  {
   "cell_type": "code",
   "execution_count": 9,
   "metadata": {},
   "outputs": [
    {
     "name": "stdout",
     "output_type": "stream",
     "text": [
      "X_valid= (180, 512, 512, 3) Y_valid= (180,)\n"
     ]
    }
   ],
   "source": [
    "X_valid = []\n",
    "Y_valid = []\n",
    "\n",
    "for img, label in valid_data:\n",
    "    X_valid.append(img)\n",
    "    Y_valid.append(label)\n",
    "\n",
    "X_valid = np.array(X_valid).astype('float32').reshape(-1,512,512,3)\n",
    "Y_valid = np.array(Y_valid)\n",
    "\n",
    "print(f\"X_valid= {X_valid.shape} Y_valid= {Y_valid.shape}\")"
   ]
  },
  {
   "cell_type": "code",
   "execution_count": 10,
   "metadata": {},
   "outputs": [
    {
     "name": "stdout",
     "output_type": "stream",
     "text": [
      "X_test= (138, 512, 512, 3) Y_test= (138,)\n"
     ]
    }
   ],
   "source": [
    "X_test = []\n",
    "Y_test = []\n",
    "\n",
    "for features,label in test_data:\n",
    "    X_test.append(features)\n",
    "    Y_test.append(label)\n",
    "\n",
    "X_test = np.array(X_test).astype('float32').reshape(-1, 512, 512, 3)\n",
    "Y_test = np.array(Y_test)\n",
    "\n",
    "print(f\"X_test= {X_test.shape} Y_test= {Y_test.shape}\")"
   ]
  },
  {
   "cell_type": "code",
   "execution_count": 11,
   "metadata": {},
   "outputs": [],
   "source": [
    "pickle_out = open(\"./resources/X_train.pickle\",\"wb\")\n",
    "pickle.dump(X_train, pickle_out)\n",
    "pickle_out.close()\n",
    "\n",
    "pickle_out = open(\"./resources/Y_train.pickle\",\"wb\")\n",
    "pickle.dump(Y_train, pickle_out)\n",
    "pickle_out.close()\n",
    "\n",
    "pickle_out = open(\"./resources/X_valid.pickle\",\"wb\")\n",
    "pickle.dump(X_valid, pickle_out)\n",
    "pickle_out.close()\n",
    "\n",
    "pickle_out = open(\"./resources/Y_valid.pickle\",\"wb\")\n",
    "pickle.dump(Y_valid, pickle_out)\n",
    "pickle_out.close()\n",
    "\n",
    "pickle_out = open(\"./resources/X_test.pickle\",\"wb\")\n",
    "pickle.dump(X_test, pickle_out)\n",
    "pickle_out.close()\n",
    "\n",
    "pickle_out = open(\"./resources/Y_test.pickle\",\"wb\")\n",
    "pickle.dump(Y_test, pickle_out)\n",
    "pickle_out.close()"
   ]
  }
 ],
 "metadata": {
  "kernelspec": {
   "display_name": "cvpr tf py3.10",
   "language": "python",
   "name": "cvpr"
  },
  "language_info": {
   "codemirror_mode": {
    "name": "ipython",
    "version": 3
   },
   "file_extension": ".py",
   "mimetype": "text/x-python",
   "name": "python",
   "nbconvert_exporter": "python",
   "pygments_lexer": "ipython3",
   "version": "3.10.13"
  }
 },
 "nbformat": 4,
 "nbformat_minor": 2
}
